{
 "cells": [
  {
   "cell_type": "code",
   "execution_count": null,
   "metadata": {},
   "outputs": [],
   "source": [
    "\n"
   ]
  },
  {
   "cell_type": "code",
   "execution_count": 9,
   "metadata": {},
   "outputs": [
    {
     "name": "stdout",
     "output_type": "stream",
     "text": [
      "1.104536101718726\n"
     ]
    }
   ],
   "source": [
    "#rule 3\n",
    "def rule3(dA, dB):\n",
    "    dQ = np.sqrt(dA**2+dB**2)\n",
    "    return dQ\n",
    "\n",
    "\n",
    "dA= .1\n",
    "dB = 1.1\n",
    "\n",
    "errT = rule3 (dA,dB)\n",
    "print (errT)\n"
   ]
  },
  {
   "cell_type": "code",
   "execution_count": null,
   "metadata": {},
   "outputs": [],
   "source": [
    "\n",
    "\n"
   ]
  },
  {
   "cell_type": "markdown",
   "metadata": {},
   "source": [
    "# this is a super fun notebook"
   ]
  },
  {
   "cell_type": "markdown",
   "metadata": {},
   "source": [
    "##no really this is fun"
   ]
  },
  {
   "cell_type": "markdown",
   "metadata": {},
   "source": [
    "## no really"
   ]
  },
  {
   "cell_type": "markdown",
   "metadata": {},
   "source": [
    "$\\delta Q = \\sqrt{(\\delta A)^2 + (\\delta B)^2}$"
   ]
  },
  {
   "cell_type": "code",
   "execution_count": 2,
   "metadata": {},
   "outputs": [
    {
     "name": "stdout",
     "output_type": "stream",
     "text": [
      "0.0009800000000000002\n"
     ]
    }
   ],
   "source": [
    "#rule1\n",
    "def rule1(c, dA):\n",
    "    dQ = c*dA\n",
    "    return dQ\n",
    "\n",
    "\n",
    "c= 9.8\n",
    "dA = .0001\n",
    "\n",
    "\n",
    "errQ = rule1 (c,dA)\n",
    "print(errQ)"
   ]
  },
  {
   "cell_type": "code",
   "execution_count": 3,
   "metadata": {},
   "outputs": [
    {
     "name": "stdout",
     "output_type": "stream",
     "text": [
      "8.59e-05\n"
     ]
    }
   ],
   "source": [
    "#rule2\n",
    "def rule2(c,m,A,dA):\n",
    "    dQ=abs(c*m*A**(m-1))*dA\n",
    "    return dQ\n",
    "\n",
    "c=1/2\n",
    "m=2\n",
    "A=0.859\n",
    "dA=.0001\n",
    "\n",
    "\n",
    "errQ = rule2 (c,m,A,dA)\n",
    "print(errQ)"
   ]
  },
  {
   "cell_type": "code",
   "execution_count": 4,
   "metadata": {},
   "outputs": [
    {
     "name": "stdout",
     "output_type": "stream",
     "text": [
      "0.0008618748843861356\n"
     ]
    }
   ],
   "source": [
    "#rule4\n",
    "def rule4(m,dA,A,n,dB,B):\n",
    "    dQ = np.sqrt((m*(dA/A))**2 + (n*(dB/B))**2)\n",
    "    return dQ\n",
    "\n",
    "m = 1\n",
    "dA = .0001\n",
    "A = .2083\n",
    "n = -2\n",
    "dB = .0051\n",
    "B = 14.25\n",
    "\n",
    "\n",
    "errQ = rule4 (m,dA,A,n,dB,B)\n",
    "print(errQ)\n",
    "\n"
   ]
  },
  {
   "cell_type": "markdown",
   "metadata": {},
   "source": []
  },
  {
   "cell_type": "code",
   "execution_count": 13,
   "metadata": {},
   "outputs": [
    {
     "name": "stdout",
     "output_type": "stream",
     "text": [
      "6\n",
      "1.2833333333333334\n",
      "0.12838022231434826\n",
      "the average is 1.2833333333333334 from 6 trials and the error in that average is 0.12838022231434826\n"
     ]
    }
   ],
   "source": [
    "x = np.array([1.1, 1.3, 1.4, 1.9, .95, 1.05])\n",
    "average = np.average(x)\n",
    "stdv = np.std(x)\n",
    "trials = len(x)\n",
    "\n",
    "\n",
    "err = stdv/np.sqrt(trials)\n",
    "\n",
    "print(trials)\n",
    "print(average)\n",
    "print(err)\n",
    "\n",
    "print('the average is',  average, 'from', trials, 'trials and the error in that average is', err)"
   ]
  },
  {
   "cell_type": "code",
   "execution_count": null,
   "metadata": {},
   "outputs": [],
   "source": []
  }
 ],
 "metadata": {
  "kernelspec": {
   "display_name": "Python 3",
   "language": "python",
   "name": "python3"
  },
  "language_info": {
   "codemirror_mode": {
    "name": "ipython",
    "version": 3
   },
   "file_extension": ".py",
   "mimetype": "text/x-python",
   "name": "python",
   "nbconvert_exporter": "python",
   "pygments_lexer": "ipython3",
   "version": "3.8.3"
  }
 },
 "nbformat": 4,
 "nbformat_minor": 4
}
